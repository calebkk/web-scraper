{
  "nbformat": 4,
  "nbformat_minor": 0,
  "metadata": {
    "colab": {
      "provenance": [],
      "authorship_tag": "ABX9TyPKyykngqoDs7thSEO7QeYC",
      "include_colab_link": true
    },
    "kernelspec": {
      "name": "python3",
      "display_name": "Python 3"
    },
    "language_info": {
      "name": "python"
    }
  },
  "cells": [
    {
      "cell_type": "markdown",
      "metadata": {
        "id": "view-in-github",
        "colab_type": "text"
      },
      "source": [
        "<a href=\"https://colab.research.google.com/github/calebkk/web-scraper/blob/main/webscrapper.ipynb\" target=\"_parent\"><img src=\"https://colab.research.google.com/assets/colab-badge.svg\" alt=\"Open In Colab\"/></a>"
      ]
    },
    {
      "cell_type": "code",
      "execution_count": 1,
      "metadata": {
        "colab": {
          "base_uri": "https://localhost:8080/"
        },
        "id": "DCqXS0ubC5-F",
        "outputId": "ac8b1a28-643a-448b-d473-a9812ce95409"
      },
      "outputs": [
        {
          "output_type": "stream",
          "name": "stdout",
          "text": [
            "Requirement already satisfied: beautifulsoup4 in /usr/local/lib/python3.10/dist-packages (4.12.3)\n",
            "Requirement already satisfied: requests in /usr/local/lib/python3.10/dist-packages (2.31.0)\n",
            "Requirement already satisfied: soupsieve>1.2 in /usr/local/lib/python3.10/dist-packages (from beautifulsoup4) (2.5)\n",
            "Requirement already satisfied: charset-normalizer<4,>=2 in /usr/local/lib/python3.10/dist-packages (from requests) (3.3.2)\n",
            "Requirement already satisfied: idna<4,>=2.5 in /usr/local/lib/python3.10/dist-packages (from requests) (3.7)\n",
            "Requirement already satisfied: urllib3<3,>=1.21.1 in /usr/local/lib/python3.10/dist-packages (from requests) (2.0.7)\n",
            "Requirement already satisfied: certifi>=2017.4.17 in /usr/local/lib/python3.10/dist-packages (from requests) (2024.7.4)\n"
          ]
        }
      ],
      "source": [
        "!pip install beautifulsoup4 requests\n"
      ]
    },
    {
      "cell_type": "code",
      "source": [
        "import requests\n",
        "from bs4 import BeautifulSoup\n",
        "\n",
        "# Function to scrape the webpage\n",
        "def scrape_website(url):\n",
        "    # Send a GET request to the website\n",
        "    response = requests.get(url)\n",
        "\n",
        "    # Check if the request was successful (status code 200)\n",
        "    if response.status_code == 200:\n",
        "        # Parse the HTML content using BeautifulSoup\n",
        "        soup = BeautifulSoup(response.content, 'html.parser')\n",
        "\n",
        "        # Extract the title of the webpage\n",
        "        if soup.title:\n",
        "          title = soup.title.string\n",
        "          print(f\"Title: {title}\")\n",
        "        else:\n",
        "          print(\"Title tag not found\")\n",
        "\n",
        "\n",
        "        # Extract all paragraph texts\n",
        "        paragraphs = soup.find_all('p')\n",
        "        for i, p in enumerate(paragraphs, start=1):\n",
        "            print(f\"Paragraph {i}: {p.get_text()}\")\n",
        "    else:\n",
        "        print(f\"Failed to retrieve the webpage. Status code: {response.status_code}\")\n",
        "\n",
        "# URL of the webpage to scrape\n",
        "url = 'https://archstonekenya.com/'\n",
        "\n",
        "# Call the function\n",
        "scrape_website(url)\n"
      ],
      "metadata": {
        "colab": {
          "base_uri": "https://localhost:8080/"
        },
        "id": "JiTUdUPLDHSN",
        "outputId": "f931fb49-bbac-41b7-a468-c1e701b5f413"
      },
      "execution_count": 6,
      "outputs": [
        {
          "output_type": "stream",
          "name": "stdout",
          "text": [
            "Title: Archstone realtors\n",
            "Paragraph 1: Archstonekenya provides you with the best in the market for renting and buying.\n",
            "Paragraph 2: With our team of experts who will advise and help you in getting your dream house.\n",
            "Paragraph 3: We pride ourselves in walking with our client from sourcing the house to the hand holding and handover of the house.\n",
            "Paragraph 4: 5 bedroom townhouse with 3 bedroom ensuite, and 2 bedrooms sharing one bathroom.\n",
            "Paragraph 5: Discover a stunning 5bedroom, all en-suite townhouse situated within a gated community.\n",
            "Paragraph 6: In Parklands, a well finished apartment boasts 3 bedrooms en-suite.\n",
            "Paragraph 7: Spacious living area with a fireplace opening to an entertainment area outside.\n",
            "Paragraph 8: 5 bedroom all en-suite stand alone Ambassadorial house.\n",
            "Paragraph 9: fully furnished 2 bedroom apartment with both bedrooms ensuite, a cloakroom, outside sitting area, common spacious well-manicured garden, gazebo, serviced, and backup genset\n",
            "Paragraph 10: \n",
            "Introduction\n",
            "              Welcome to Archstone kenya your trusted partner in securing exquisite residences for diplomats and embassies, and now stretching our business into multinational and NGO’s in kenya, with an unwavering commitment to excellence and a profound understanding of the unique requirements of our distinguished clientele we specialize in connecting diplomatic missions with the perfect home that exude comfort, security, and elegance. Explore our portfolio of exclusive properties, where luxury meets international diplomacy, and let us pave way to your new diplomatic address.\n",
            "                Our Objective\n",
            "                Archstone Kenya wants you as a client for a lifetime. We go beyond personalized attention and service. Archstone specializes in a niche of clients who let us handle their needs. We focus on specific property sectors, making us experts in housing and residential properties in Blue and Green zones.\n",
            "                We give you the best in the market Rent, Selling and Property management. You are rest assured even outside the country that your property is in good hands and managed by a team of professionals.\n",
            "            \n",
            "Paragraph 11: Our acquaintance with a client always begins with a free consultation to find out what kind of property they are looking for.\n",
            "Paragraph 12: All the results that you get from us is 100% vetted to offer you the best choice of properties.\n",
            "Paragraph 13: At ArchstoneKenya, we work with various types of real estate properties. You can find out more about us by browsing our website.\n",
            "Paragraph 14: We give you the best in the market right from Renting, Selling and Property management. You are rest assured even outside the country that your property is in good hands and managed by a team of professionals.\n",
            "Paragraph 15: © . All Rights Reserved. \n"
          ]
        }
      ]
    },
    {
      "source": [
        "import requests\n",
        "from bs4 import BeautifulSoup\n",
        "\n",
        "def scrape_website(url):\n",
        "    response = requests.get(url)\n",
        "\n",
        "    if response.status_code == 200:\n",
        "        soup = BeautifulSoup(response.content, 'html.parser')\n",
        "\n",
        "        # Title Extraction (handling potential absence)\n",
        "        if soup.title:\n",
        "            title = soup.title.string\n",
        "            print(f\"Title: {title}\")\n",
        "        else:\n",
        "            print(\"Title tag not found.\")\n",
        "\n",
        "        # Paragraph Extraction\n",
        "        paragraphs = soup.find_all('p')\n",
        "        for i, p in enumerate(paragraphs, start=1):\n",
        "            print(f\"Paragraph {i}: {p.get_text()}\")\n",
        "\n",
        "        # Image Scraping\n",
        "        images = soup.find_all('img')  # Find all image tags\n",
        "        for i, img in enumerate(images, start=1):\n",
        "            img_src = img.get('src')  # Get the image source URL\n",
        "            if img_src:\n",
        "                print(f\"Image {i} URL: {img_src}\")\n",
        "\n",
        "                # Download the image (optional)\n",
        "                img_response = requests.get(img_src)\n",
        "                if img_response.status_code == 200:\n",
        "                    img_filename = f\"image_{i}.jpg\"  # Customize filename\n",
        "                    with open(img_filename, 'wb') as f:\n",
        "                        f.write(img_response.content)\n",
        "                    print(f\"Downloaded: {img_filename}\")\n",
        "                else:\n",
        "                    print(f\"Failed to download image {i}\")\n",
        "\n",
        "    else:\n",
        "        print(f\"Failed to retrieve the webpage. Status code: {response.status_code}\")\n",
        "\n",
        "# URL of the webpage to scrape\n",
        "url = 'https://archstonekenya.com/'  # Replace with the actual website\n",
        "\n",
        "# Call the function\n",
        "scrape_website(url)"
      ],
      "cell_type": "code",
      "metadata": {
        "colab": {
          "base_uri": "https://localhost:8080/",
          "height": 775
        },
        "id": "Q2VR045pGXl_",
        "outputId": "a4cd5eb3-298d-446e-ea55-71ac014f43da"
      },
      "execution_count": 8,
      "outputs": [
        {
          "output_type": "stream",
          "name": "stdout",
          "text": [
            "Title: Archstone realtors\n",
            "Paragraph 1: Archstonekenya provides you with the best in the market for renting and buying.\n",
            "Paragraph 2: With our team of experts who will advise and help you in getting your dream house.\n",
            "Paragraph 3: We pride ourselves in walking with our client from sourcing the house to the hand holding and handover of the house.\n",
            "Paragraph 4: 5 bedroom townhouse with 3 bedroom ensuite, and 2 bedrooms sharing one bathroom.\n",
            "Paragraph 5: Discover a stunning 5bedroom, all en-suite townhouse situated within a gated community.\n",
            "Paragraph 6: In Parklands, a well finished apartment boasts 3 bedrooms en-suite.\n",
            "Paragraph 7: Spacious living area with a fireplace opening to an entertainment area outside.\n",
            "Paragraph 8: 5 bedroom all en-suite stand alone Ambassadorial house.\n",
            "Paragraph 9: fully furnished 2 bedroom apartment with both bedrooms ensuite, a cloakroom, outside sitting area, common spacious well-manicured garden, gazebo, serviced, and backup genset\n",
            "Paragraph 10: \n",
            "Introduction\n",
            "              Welcome to Archstone kenya your trusted partner in securing exquisite residences for diplomats and embassies, and now stretching our business into multinational and NGO’s in kenya, with an unwavering commitment to excellence and a profound understanding of the unique requirements of our distinguished clientele we specialize in connecting diplomatic missions with the perfect home that exude comfort, security, and elegance. Explore our portfolio of exclusive properties, where luxury meets international diplomacy, and let us pave way to your new diplomatic address.\n",
            "                Our Objective\n",
            "                Archstone Kenya wants you as a client for a lifetime. We go beyond personalized attention and service. Archstone specializes in a niche of clients who let us handle their needs. We focus on specific property sectors, making us experts in housing and residential properties in Blue and Green zones.\n",
            "                We give you the best in the market Rent, Selling and Property management. You are rest assured even outside the country that your property is in good hands and managed by a team of professionals.\n",
            "            \n",
            "Paragraph 11: Our acquaintance with a client always begins with a free consultation to find out what kind of property they are looking for.\n",
            "Paragraph 12: All the results that you get from us is 100% vetted to offer you the best choice of properties.\n",
            "Paragraph 13: At ArchstoneKenya, we work with various types of real estate properties. You can find out more about us by browsing our website.\n",
            "Paragraph 14: We give you the best in the market right from Renting, Selling and Property management. You are rest assured even outside the country that your property is in good hands and managed by a team of professionals.\n",
            "Paragraph 15: © . All Rights Reserved. \n",
            "Image 1 URL: images/archstone_logo.png\n"
          ]
        },
        {
          "output_type": "error",
          "ename": "MissingSchema",
          "evalue": "Invalid URL 'images/archstone_logo.png': No scheme supplied. Perhaps you meant https://images/archstone_logo.png?",
          "traceback": [
            "\u001b[0;31m---------------------------------------------------------------------------\u001b[0m",
            "\u001b[0;31mMissingSchema\u001b[0m                             Traceback (most recent call last)",
            "\u001b[0;32m<ipython-input-8-5e0891445996>\u001b[0m in \u001b[0;36m<cell line: 46>\u001b[0;34m()\u001b[0m\n\u001b[1;32m     44\u001b[0m \u001b[0;34m\u001b[0m\u001b[0m\n\u001b[1;32m     45\u001b[0m \u001b[0;31m# Call the function\u001b[0m\u001b[0;34m\u001b[0m\u001b[0;34m\u001b[0m\u001b[0m\n\u001b[0;32m---> 46\u001b[0;31m \u001b[0mscrape_website\u001b[0m\u001b[0;34m(\u001b[0m\u001b[0murl\u001b[0m\u001b[0;34m)\u001b[0m\u001b[0;34m\u001b[0m\u001b[0;34m\u001b[0m\u001b[0m\n\u001b[0m",
            "\u001b[0;32m<ipython-input-8-5e0891445996>\u001b[0m in \u001b[0;36mscrape_website\u001b[0;34m(url)\u001b[0m\n\u001b[1;32m     28\u001b[0m \u001b[0;34m\u001b[0m\u001b[0m\n\u001b[1;32m     29\u001b[0m                 \u001b[0;31m# Download the image (optional)\u001b[0m\u001b[0;34m\u001b[0m\u001b[0;34m\u001b[0m\u001b[0m\n\u001b[0;32m---> 30\u001b[0;31m                 \u001b[0mimg_response\u001b[0m \u001b[0;34m=\u001b[0m \u001b[0mrequests\u001b[0m\u001b[0;34m.\u001b[0m\u001b[0mget\u001b[0m\u001b[0;34m(\u001b[0m\u001b[0mimg_src\u001b[0m\u001b[0;34m)\u001b[0m\u001b[0;34m\u001b[0m\u001b[0;34m\u001b[0m\u001b[0m\n\u001b[0m\u001b[1;32m     31\u001b[0m                 \u001b[0;32mif\u001b[0m \u001b[0mimg_response\u001b[0m\u001b[0;34m.\u001b[0m\u001b[0mstatus_code\u001b[0m \u001b[0;34m==\u001b[0m \u001b[0;36m200\u001b[0m\u001b[0;34m:\u001b[0m\u001b[0;34m\u001b[0m\u001b[0;34m\u001b[0m\u001b[0m\n\u001b[1;32m     32\u001b[0m                     \u001b[0mimg_filename\u001b[0m \u001b[0;34m=\u001b[0m \u001b[0;34mf\"image_{i}.jpg\"\u001b[0m  \u001b[0;31m# Customize filename\u001b[0m\u001b[0;34m\u001b[0m\u001b[0;34m\u001b[0m\u001b[0m\n",
            "\u001b[0;32m/usr/local/lib/python3.10/dist-packages/requests/api.py\u001b[0m in \u001b[0;36mget\u001b[0;34m(url, params, **kwargs)\u001b[0m\n\u001b[1;32m     71\u001b[0m     \"\"\"\n\u001b[1;32m     72\u001b[0m \u001b[0;34m\u001b[0m\u001b[0m\n\u001b[0;32m---> 73\u001b[0;31m     \u001b[0;32mreturn\u001b[0m \u001b[0mrequest\u001b[0m\u001b[0;34m(\u001b[0m\u001b[0;34m\"get\"\u001b[0m\u001b[0;34m,\u001b[0m \u001b[0murl\u001b[0m\u001b[0;34m,\u001b[0m \u001b[0mparams\u001b[0m\u001b[0;34m=\u001b[0m\u001b[0mparams\u001b[0m\u001b[0;34m,\u001b[0m \u001b[0;34m**\u001b[0m\u001b[0mkwargs\u001b[0m\u001b[0;34m)\u001b[0m\u001b[0;34m\u001b[0m\u001b[0;34m\u001b[0m\u001b[0m\n\u001b[0m\u001b[1;32m     74\u001b[0m \u001b[0;34m\u001b[0m\u001b[0m\n\u001b[1;32m     75\u001b[0m \u001b[0;34m\u001b[0m\u001b[0m\n",
            "\u001b[0;32m/usr/local/lib/python3.10/dist-packages/requests/api.py\u001b[0m in \u001b[0;36mrequest\u001b[0;34m(method, url, **kwargs)\u001b[0m\n\u001b[1;32m     57\u001b[0m     \u001b[0;31m# cases, and look like a memory leak in others.\u001b[0m\u001b[0;34m\u001b[0m\u001b[0;34m\u001b[0m\u001b[0m\n\u001b[1;32m     58\u001b[0m     \u001b[0;32mwith\u001b[0m \u001b[0msessions\u001b[0m\u001b[0;34m.\u001b[0m\u001b[0mSession\u001b[0m\u001b[0;34m(\u001b[0m\u001b[0;34m)\u001b[0m \u001b[0;32mas\u001b[0m \u001b[0msession\u001b[0m\u001b[0;34m:\u001b[0m\u001b[0;34m\u001b[0m\u001b[0;34m\u001b[0m\u001b[0m\n\u001b[0;32m---> 59\u001b[0;31m         \u001b[0;32mreturn\u001b[0m \u001b[0msession\u001b[0m\u001b[0;34m.\u001b[0m\u001b[0mrequest\u001b[0m\u001b[0;34m(\u001b[0m\u001b[0mmethod\u001b[0m\u001b[0;34m=\u001b[0m\u001b[0mmethod\u001b[0m\u001b[0;34m,\u001b[0m \u001b[0murl\u001b[0m\u001b[0;34m=\u001b[0m\u001b[0murl\u001b[0m\u001b[0;34m,\u001b[0m \u001b[0;34m**\u001b[0m\u001b[0mkwargs\u001b[0m\u001b[0;34m)\u001b[0m\u001b[0;34m\u001b[0m\u001b[0;34m\u001b[0m\u001b[0m\n\u001b[0m\u001b[1;32m     60\u001b[0m \u001b[0;34m\u001b[0m\u001b[0m\n\u001b[1;32m     61\u001b[0m \u001b[0;34m\u001b[0m\u001b[0m\n",
            "\u001b[0;32m/usr/local/lib/python3.10/dist-packages/requests/sessions.py\u001b[0m in \u001b[0;36mrequest\u001b[0;34m(self, method, url, params, data, headers, cookies, files, auth, timeout, allow_redirects, proxies, hooks, stream, verify, cert, json)\u001b[0m\n\u001b[1;32m    573\u001b[0m             \u001b[0mhooks\u001b[0m\u001b[0;34m=\u001b[0m\u001b[0mhooks\u001b[0m\u001b[0;34m,\u001b[0m\u001b[0;34m\u001b[0m\u001b[0;34m\u001b[0m\u001b[0m\n\u001b[1;32m    574\u001b[0m         )\n\u001b[0;32m--> 575\u001b[0;31m         \u001b[0mprep\u001b[0m \u001b[0;34m=\u001b[0m \u001b[0mself\u001b[0m\u001b[0;34m.\u001b[0m\u001b[0mprepare_request\u001b[0m\u001b[0;34m(\u001b[0m\u001b[0mreq\u001b[0m\u001b[0;34m)\u001b[0m\u001b[0;34m\u001b[0m\u001b[0;34m\u001b[0m\u001b[0m\n\u001b[0m\u001b[1;32m    576\u001b[0m \u001b[0;34m\u001b[0m\u001b[0m\n\u001b[1;32m    577\u001b[0m         \u001b[0mproxies\u001b[0m \u001b[0;34m=\u001b[0m \u001b[0mproxies\u001b[0m \u001b[0;32mor\u001b[0m \u001b[0;34m{\u001b[0m\u001b[0;34m}\u001b[0m\u001b[0;34m\u001b[0m\u001b[0;34m\u001b[0m\u001b[0m\n",
            "\u001b[0;32m/usr/local/lib/python3.10/dist-packages/requests/sessions.py\u001b[0m in \u001b[0;36mprepare_request\u001b[0;34m(self, request)\u001b[0m\n\u001b[1;32m    484\u001b[0m \u001b[0;34m\u001b[0m\u001b[0m\n\u001b[1;32m    485\u001b[0m         \u001b[0mp\u001b[0m \u001b[0;34m=\u001b[0m \u001b[0mPreparedRequest\u001b[0m\u001b[0;34m(\u001b[0m\u001b[0;34m)\u001b[0m\u001b[0;34m\u001b[0m\u001b[0;34m\u001b[0m\u001b[0m\n\u001b[0;32m--> 486\u001b[0;31m         p.prepare(\n\u001b[0m\u001b[1;32m    487\u001b[0m             \u001b[0mmethod\u001b[0m\u001b[0;34m=\u001b[0m\u001b[0mrequest\u001b[0m\u001b[0;34m.\u001b[0m\u001b[0mmethod\u001b[0m\u001b[0;34m.\u001b[0m\u001b[0mupper\u001b[0m\u001b[0;34m(\u001b[0m\u001b[0;34m)\u001b[0m\u001b[0;34m,\u001b[0m\u001b[0;34m\u001b[0m\u001b[0;34m\u001b[0m\u001b[0m\n\u001b[1;32m    488\u001b[0m             \u001b[0murl\u001b[0m\u001b[0;34m=\u001b[0m\u001b[0mrequest\u001b[0m\u001b[0;34m.\u001b[0m\u001b[0murl\u001b[0m\u001b[0;34m,\u001b[0m\u001b[0;34m\u001b[0m\u001b[0;34m\u001b[0m\u001b[0m\n",
            "\u001b[0;32m/usr/local/lib/python3.10/dist-packages/requests/models.py\u001b[0m in \u001b[0;36mprepare\u001b[0;34m(self, method, url, headers, files, data, params, auth, cookies, hooks, json)\u001b[0m\n\u001b[1;32m    366\u001b[0m \u001b[0;34m\u001b[0m\u001b[0m\n\u001b[1;32m    367\u001b[0m         \u001b[0mself\u001b[0m\u001b[0;34m.\u001b[0m\u001b[0mprepare_method\u001b[0m\u001b[0;34m(\u001b[0m\u001b[0mmethod\u001b[0m\u001b[0;34m)\u001b[0m\u001b[0;34m\u001b[0m\u001b[0;34m\u001b[0m\u001b[0m\n\u001b[0;32m--> 368\u001b[0;31m         \u001b[0mself\u001b[0m\u001b[0;34m.\u001b[0m\u001b[0mprepare_url\u001b[0m\u001b[0;34m(\u001b[0m\u001b[0murl\u001b[0m\u001b[0;34m,\u001b[0m \u001b[0mparams\u001b[0m\u001b[0;34m)\u001b[0m\u001b[0;34m\u001b[0m\u001b[0;34m\u001b[0m\u001b[0m\n\u001b[0m\u001b[1;32m    369\u001b[0m         \u001b[0mself\u001b[0m\u001b[0;34m.\u001b[0m\u001b[0mprepare_headers\u001b[0m\u001b[0;34m(\u001b[0m\u001b[0mheaders\u001b[0m\u001b[0;34m)\u001b[0m\u001b[0;34m\u001b[0m\u001b[0;34m\u001b[0m\u001b[0m\n\u001b[1;32m    370\u001b[0m         \u001b[0mself\u001b[0m\u001b[0;34m.\u001b[0m\u001b[0mprepare_cookies\u001b[0m\u001b[0;34m(\u001b[0m\u001b[0mcookies\u001b[0m\u001b[0;34m)\u001b[0m\u001b[0;34m\u001b[0m\u001b[0;34m\u001b[0m\u001b[0m\n",
            "\u001b[0;32m/usr/local/lib/python3.10/dist-packages/requests/models.py\u001b[0m in \u001b[0;36mprepare_url\u001b[0;34m(self, url, params)\u001b[0m\n\u001b[1;32m    437\u001b[0m \u001b[0;34m\u001b[0m\u001b[0m\n\u001b[1;32m    438\u001b[0m         \u001b[0;32mif\u001b[0m \u001b[0;32mnot\u001b[0m \u001b[0mscheme\u001b[0m\u001b[0;34m:\u001b[0m\u001b[0;34m\u001b[0m\u001b[0;34m\u001b[0m\u001b[0m\n\u001b[0;32m--> 439\u001b[0;31m             raise MissingSchema(\n\u001b[0m\u001b[1;32m    440\u001b[0m                 \u001b[0;34mf\"Invalid URL {url!r}: No scheme supplied. \"\u001b[0m\u001b[0;34m\u001b[0m\u001b[0;34m\u001b[0m\u001b[0m\n\u001b[1;32m    441\u001b[0m                 \u001b[0;34mf\"Perhaps you meant https://{url}?\"\u001b[0m\u001b[0;34m\u001b[0m\u001b[0;34m\u001b[0m\u001b[0m\n",
            "\u001b[0;31mMissingSchema\u001b[0m: Invalid URL 'images/archstone_logo.png': No scheme supplied. Perhaps you meant https://images/archstone_logo.png?"
          ]
        }
      ]
    },
    {
      "source": [
        "import requests\n",
        "from bs4 import BeautifulSoup\n",
        "\n",
        "def scrape_website(url):\n",
        "    response = requests.get(url)\n",
        "\n",
        "    if response.status_code == 200:\n",
        "        soup = BeautifulSoup(response.content, 'html.parser')\n",
        "\n",
        "        # Title Extraction (handling potential absence)\n",
        "        if soup.title:\n",
        "            title = soup.title.string\n",
        "            print(f\"Title: {title}\")\n",
        "        else:\n",
        "            print(\"Title tag not found.\")\n",
        "\n",
        "        # Paragraph Extraction\n",
        "        paragraphs = soup.find_all('p')\n",
        "        for i, p in enumerate(paragraphs, start=1):\n",
        "            print(f\"Paragraph {i}: {p.get_text()}\")\n",
        "\n",
        "        # Image Scraping\n",
        "        images = soup.find_all('img')  # Find all image tags\n",
        "        for i, img in enumerate(images, start=1):\n",
        "            img_src = img.get('src')  # Get the image source URL\n",
        "            if img_src:\n",
        "                # Construct absolute URL if necessary\n",
        "                if not img_src.startswith('http'):\n",
        "                    img_src = urljoin(url, img_src)  # Join base URL with relative path\n",
        "\n",
        "                print(f\"Image {i} URL: {img_src}\")\n",
        "\n",
        "                # Download the image (optional)\n",
        "                img_response = requests.get(img_src)\n",
        "                if img_response.status_code == 200:\n",
        "                    img_filename = f\"image_{i}.jpg\"  # Customize filename\n",
        "                    with open(img_filename, 'wb') as f:\n",
        "                        f.write(img_response.content)\n",
        "                    print(f\"Downloaded: {img_filename}\")\n",
        "                else:\n",
        "                    print(f\"Failed to download image {i}\")\n",
        "\n",
        "    else:\n",
        "        print(f\"Failed to retrieve the webpage. Status code: {response.status_code}\")\n",
        "\n",
        "# URL of the webpage to scrape\n",
        "url = 'https://archstonekenya.com/'  # Replace with the actual website\n",
        "\n",
        "# Call the function\n",
        "scrape_website(url)"
      ],
      "cell_type": "code",
      "metadata": {
        "colab": {
          "base_uri": "https://localhost:8080/",
          "height": 716
        },
        "id": "9pX6s1uDG_Mr",
        "outputId": "cd930890-66be-4872-daee-0bc183f2cdef"
      },
      "execution_count": 9,
      "outputs": [
        {
          "output_type": "stream",
          "name": "stdout",
          "text": [
            "Title: Archstone realtors\n",
            "Paragraph 1: Archstonekenya provides you with the best in the market for renting and buying.\n",
            "Paragraph 2: With our team of experts who will advise and help you in getting your dream house.\n",
            "Paragraph 3: We pride ourselves in walking with our client from sourcing the house to the hand holding and handover of the house.\n",
            "Paragraph 4: 5 bedroom townhouse with 3 bedroom ensuite, and 2 bedrooms sharing one bathroom.\n",
            "Paragraph 5: Discover a stunning 5bedroom, all en-suite townhouse situated within a gated community.\n",
            "Paragraph 6: In Parklands, a well finished apartment boasts 3 bedrooms en-suite.\n",
            "Paragraph 7: Spacious living area with a fireplace opening to an entertainment area outside.\n",
            "Paragraph 8: 5 bedroom all en-suite stand alone Ambassadorial house.\n",
            "Paragraph 9: fully furnished 2 bedroom apartment with both bedrooms ensuite, a cloakroom, outside sitting area, common spacious well-manicured garden, gazebo, serviced, and backup genset\n",
            "Paragraph 10: \n",
            "Introduction\n",
            "              Welcome to Archstone kenya your trusted partner in securing exquisite residences for diplomats and embassies, and now stretching our business into multinational and NGO’s in kenya, with an unwavering commitment to excellence and a profound understanding of the unique requirements of our distinguished clientele we specialize in connecting diplomatic missions with the perfect home that exude comfort, security, and elegance. Explore our portfolio of exclusive properties, where luxury meets international diplomacy, and let us pave way to your new diplomatic address.\n",
            "                Our Objective\n",
            "                Archstone Kenya wants you as a client for a lifetime. We go beyond personalized attention and service. Archstone specializes in a niche of clients who let us handle their needs. We focus on specific property sectors, making us experts in housing and residential properties in Blue and Green zones.\n",
            "                We give you the best in the market Rent, Selling and Property management. You are rest assured even outside the country that your property is in good hands and managed by a team of professionals.\n",
            "            \n",
            "Paragraph 11: Our acquaintance with a client always begins with a free consultation to find out what kind of property they are looking for.\n",
            "Paragraph 12: All the results that you get from us is 100% vetted to offer you the best choice of properties.\n",
            "Paragraph 13: At ArchstoneKenya, we work with various types of real estate properties. You can find out more about us by browsing our website.\n",
            "Paragraph 14: We give you the best in the market right from Renting, Selling and Property management. You are rest assured even outside the country that your property is in good hands and managed by a team of professionals.\n",
            "Paragraph 15: © . All Rights Reserved. \n"
          ]
        },
        {
          "output_type": "error",
          "ename": "NameError",
          "evalue": "name 'urljoin' is not defined",
          "traceback": [
            "\u001b[0;31m---------------------------------------------------------------------------\u001b[0m",
            "\u001b[0;31mNameError\u001b[0m                                 Traceback (most recent call last)",
            "\u001b[0;32m<ipython-input-9-65409c40c7a9>\u001b[0m in \u001b[0;36m<cell line: 50>\u001b[0;34m()\u001b[0m\n\u001b[1;32m     48\u001b[0m \u001b[0;34m\u001b[0m\u001b[0m\n\u001b[1;32m     49\u001b[0m \u001b[0;31m# Call the function\u001b[0m\u001b[0;34m\u001b[0m\u001b[0;34m\u001b[0m\u001b[0m\n\u001b[0;32m---> 50\u001b[0;31m \u001b[0mscrape_website\u001b[0m\u001b[0;34m(\u001b[0m\u001b[0murl\u001b[0m\u001b[0;34m)\u001b[0m\u001b[0;34m\u001b[0m\u001b[0;34m\u001b[0m\u001b[0m\n\u001b[0m",
            "\u001b[0;32m<ipython-input-9-65409c40c7a9>\u001b[0m in \u001b[0;36mscrape_website\u001b[0;34m(url)\u001b[0m\n\u001b[1;32m     27\u001b[0m                 \u001b[0;31m# Construct absolute URL if necessary\u001b[0m\u001b[0;34m\u001b[0m\u001b[0;34m\u001b[0m\u001b[0m\n\u001b[1;32m     28\u001b[0m                 \u001b[0;32mif\u001b[0m \u001b[0;32mnot\u001b[0m \u001b[0mimg_src\u001b[0m\u001b[0;34m.\u001b[0m\u001b[0mstartswith\u001b[0m\u001b[0;34m(\u001b[0m\u001b[0;34m'http'\u001b[0m\u001b[0;34m)\u001b[0m\u001b[0;34m:\u001b[0m\u001b[0;34m\u001b[0m\u001b[0;34m\u001b[0m\u001b[0m\n\u001b[0;32m---> 29\u001b[0;31m                     \u001b[0mimg_src\u001b[0m \u001b[0;34m=\u001b[0m \u001b[0murljoin\u001b[0m\u001b[0;34m(\u001b[0m\u001b[0murl\u001b[0m\u001b[0;34m,\u001b[0m \u001b[0mimg_src\u001b[0m\u001b[0;34m)\u001b[0m  \u001b[0;31m# Join base URL with relative path\u001b[0m\u001b[0;34m\u001b[0m\u001b[0;34m\u001b[0m\u001b[0m\n\u001b[0m\u001b[1;32m     30\u001b[0m \u001b[0;34m\u001b[0m\u001b[0m\n\u001b[1;32m     31\u001b[0m                 \u001b[0mprint\u001b[0m\u001b[0;34m(\u001b[0m\u001b[0;34mf\"Image {i} URL: {img_src}\"\u001b[0m\u001b[0;34m)\u001b[0m\u001b[0;34m\u001b[0m\u001b[0;34m\u001b[0m\u001b[0m\n",
            "\u001b[0;31mNameError\u001b[0m: name 'urljoin' is not defined"
          ]
        }
      ]
    },
    {
      "source": [
        "import requests\n",
        "from bs4 import BeautifulSoup\n",
        "from urllib.parse import urljoin # Import the urljoin function\n",
        "\n",
        "def scrape_website(url):\n",
        "    response = requests.get(url)\n",
        "\n",
        "    if response.status_code == 200:\n",
        "        soup = BeautifulSoup(response.content, 'html.parser')\n",
        "\n",
        "        # Title Extraction (handling potential absence)\n",
        "        if soup.title:\n",
        "            title = soup.title.string\n",
        "            print(f\"Title: {title}\")\n",
        "        else:\n",
        "            print(\"Title tag not found.\")\n",
        "\n",
        "        # Paragraph Extraction\n",
        "        paragraphs = soup.find_all('p')\n",
        "        for i, p in enumerate(paragraphs, start=1):\n",
        "            print(f\"Paragraph {i}: {p.get_text()}\")\n",
        "\n",
        "        # Image Scraping\n",
        "        images = soup.find_all('img')  # Find all image tags\n",
        "        for i, img in enumerate(images, start=1):\n",
        "            img_src = img.get('src')  # Get the image source URL\n",
        "            if img_src:\n",
        "                # Construct absolute URL if necessary\n",
        "                if not img_src.startswith('http'):\n",
        "                    img_src = urljoin(url, img_src)  # Join base URL with relative path\n",
        "\n",
        "                print(f\"Image {i} URL: {img_src}\")\n",
        "\n",
        "                # Download the image (optional)\n",
        "                img_response = requests.get(img_src)\n",
        "                if img_response.status_code == 200:\n",
        "                    img_filename = f\"image_{i}.jpg\"  # Customize filename\n",
        "                    with open(img_filename, 'wb') as f:\n",
        "                        f.write(img_response.content)\n",
        "                    print(f\"Downloaded: {img_filename}\")\n",
        "                else:\n",
        "                    print(f\"Failed to download image {i}\")\n",
        "\n",
        "    else:\n",
        "        print(f\"Failed to retrieve the webpage. Status code: {response.status_code}\")\n",
        "\n",
        "# URL of the webpage to scrape\n",
        "url = 'https://archstonekenya.com/'  # Replace with the actual website\n",
        "\n",
        "# Call the function\n",
        "scrape_website(url)"
      ],
      "cell_type": "code",
      "metadata": {
        "colab": {
          "base_uri": "https://localhost:8080/"
        },
        "id": "VJe4mRsEHZkx",
        "outputId": "1b8dfa26-beeb-4925-ff09-054ff30a5e0a"
      },
      "execution_count": 10,
      "outputs": [
        {
          "output_type": "stream",
          "name": "stdout",
          "text": [
            "Title: Archstone realtors\n",
            "Paragraph 1: Archstonekenya provides you with the best in the market for renting and buying.\n",
            "Paragraph 2: With our team of experts who will advise and help you in getting your dream house.\n",
            "Paragraph 3: We pride ourselves in walking with our client from sourcing the house to the hand holding and handover of the house.\n",
            "Paragraph 4: 5 bedroom townhouse with 3 bedroom ensuite, and 2 bedrooms sharing one bathroom.\n",
            "Paragraph 5: Discover a stunning 5bedroom, all en-suite townhouse situated within a gated community.\n",
            "Paragraph 6: In Parklands, a well finished apartment boasts 3 bedrooms en-suite.\n",
            "Paragraph 7: Spacious living area with a fireplace opening to an entertainment area outside.\n",
            "Paragraph 8: 5 bedroom all en-suite stand alone Ambassadorial house.\n",
            "Paragraph 9: fully furnished 2 bedroom apartment with both bedrooms ensuite, a cloakroom, outside sitting area, common spacious well-manicured garden, gazebo, serviced, and backup genset\n",
            "Paragraph 10: \n",
            "Introduction\n",
            "              Welcome to Archstone kenya your trusted partner in securing exquisite residences for diplomats and embassies, and now stretching our business into multinational and NGO’s in kenya, with an unwavering commitment to excellence and a profound understanding of the unique requirements of our distinguished clientele we specialize in connecting diplomatic missions with the perfect home that exude comfort, security, and elegance. Explore our portfolio of exclusive properties, where luxury meets international diplomacy, and let us pave way to your new diplomatic address.\n",
            "                Our Objective\n",
            "                Archstone Kenya wants you as a client for a lifetime. We go beyond personalized attention and service. Archstone specializes in a niche of clients who let us handle their needs. We focus on specific property sectors, making us experts in housing and residential properties in Blue and Green zones.\n",
            "                We give you the best in the market Rent, Selling and Property management. You are rest assured even outside the country that your property is in good hands and managed by a team of professionals.\n",
            "            \n",
            "Paragraph 11: Our acquaintance with a client always begins with a free consultation to find out what kind of property they are looking for.\n",
            "Paragraph 12: All the results that you get from us is 100% vetted to offer you the best choice of properties.\n",
            "Paragraph 13: At ArchstoneKenya, we work with various types of real estate properties. You can find out more about us by browsing our website.\n",
            "Paragraph 14: We give you the best in the market right from Renting, Selling and Property management. You are rest assured even outside the country that your property is in good hands and managed by a team of professionals.\n",
            "Paragraph 15: © . All Rights Reserved. \n",
            "Image 1 URL: https://archstonekenya.com/images/archstone_logo.png\n",
            "Downloaded: image_1.jpg\n",
            "Image 2 URL: https://archstonekenya.com/images/fulls/vall1.jpg\n",
            "Downloaded: image_2.jpg\n",
            "Image 3 URL: https://archstonekenya.com/images/fulls/kitu1.jpg\n",
            "Downloaded: image_3.jpg\n",
            "Image 4 URL: https://archstonekenya.com/images/fulls/p111.jpg\n",
            "Downloaded: image_4.jpg\n",
            "Image 5 URL: https://archstonekenya.com/images/fulls/rr1.jpg\n",
            "Downloaded: image_5.jpg\n",
            "Image 6 URL: https://archstonekenya.com/images/fulls/THAI 111.jpeg\n",
            "Downloaded: image_6.jpg\n",
            "Image 7 URL: https://archstonekenya.com/images/fulls/est1.jpg\n",
            "Downloaded: image_7.jpg\n",
            "Image 8 URL: https://livedemo00.template-help.com/wt_51575/images/service-thumbnail-1-270x300.jpg\n",
            "Failed to download image 8\n",
            "Image 9 URL: http://archstonekenya.com/images/fulls/IMG-20230416-WA0000.jpg\n",
            "Downloaded: image_9.jpg\n",
            "Image 10 URL: https://livedemo00.template-help.com/wt_51575/images/service-thumbnail-3-270x300.jpg\n",
            "Failed to download image 10\n",
            "Image 11 URL: http://archstonekenya.com/images/fulls/offf1.jpg\n",
            "Downloaded: image_11.jpg\n",
            "Image 12 URL: http://archstonekenya.com/images/fulls/RD1.jpg\n",
            "Downloaded: image_12.jpg\n",
            "Image 13 URL: http://archstonekenya.com/images/fulls/lvv.jpeg\n",
            "Downloaded: image_13.jpg\n",
            "Image 14 URL: http://archstonekenya.com/images/fulls/DOC1..jpg\n",
            "Downloaded: image_14.jpg\n",
            "Image 15 URL: http://archstonekenya.com/images/fulls/propM29.jpg\n",
            "Downloaded: image_15.jpg\n",
            "Image 16 URL: http://archstonekenya.com/images/fulls/RD1.jpg\n",
            "Downloaded: image_16.jpg\n",
            "Image 17 URL: http://archstonekenya.com/images/fulls/Simon3.jpg\n",
            "Downloaded: image_17.jpg\n",
            "Image 18 URL: http://archstonekenya.com/images/fulls/NYA1.jpg\n",
            "Downloaded: image_18.jpg\n",
            "Image 19 URL: http://archstonekenya.com/images/fulls/IMG-20230416-WA0000.jpg\n",
            "Downloaded: image_19.jpg\n",
            "Image 20 URL: https://archstonekenya.com/images/archstone_logo.png\n",
            "Downloaded: image_20.jpg\n"
          ]
        }
      ]
    }
  ]
}