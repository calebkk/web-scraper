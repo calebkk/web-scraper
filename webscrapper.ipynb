{
  "nbformat": 4,
  "nbformat_minor": 0,
  "metadata": {
    "colab": {
      "provenance": [],
      "authorship_tag": "ABX9TyMmY7b3wH+O9Z8lifDktBKd",
      "include_colab_link": true
    },
    "kernelspec": {
      "name": "python3",
      "display_name": "Python 3"
    },
    "language_info": {
      "name": "python"
    }
  },
  "cells": [
    {
      "cell_type": "markdown",
      "metadata": {
        "id": "view-in-github",
        "colab_type": "text"
      },
      "source": [
        "<a href=\"https://colab.research.google.com/github/calebkk/web-scraper/blob/main/webscrapper.ipynb\" target=\"_parent\"><img src=\"https://colab.research.google.com/assets/colab-badge.svg\" alt=\"Open In Colab\"/></a>"
      ]
    },
    {
      "cell_type": "code",
      "execution_count": 11,
      "metadata": {
        "id": "DCqXS0ubC5-F"
      },
      "outputs": [],
      "source": [
        "\n"
      ]
    },
    {
      "source": [
        "!pip install beautifulsoup4 requests\n",
        "import requests\n",
        "from bs4 import BeautifulSoup\n",
        "from urllib.parse import urljoin # Import the urljoin function\n",
        "\n",
        "def scrape_website(url):\n",
        "    response = requests.get(url)\n",
        "\n",
        "    if response.status_code == 200:\n",
        "        soup = BeautifulSoup(response.content, 'html.parser')\n",
        "\n",
        "        # Title Extraction (handling potential absence)\n",
        "        if soup.title:\n",
        "            title = soup.title.string\n",
        "            print(f\"Title: {title}\")\n",
        "        else:\n",
        "            print(\"Title tag not found.\")\n",
        "\n",
        "        # Paragraph Extraction\n",
        "        paragraphs = soup.find_all('p')\n",
        "        for i, p in enumerate(paragraphs, start=1):\n",
        "            print(f\"Paragraph {i}: {p.get_text()}\")\n",
        "\n",
        "        # Image Scraping\n",
        "        images = soup.find_all('img')  # Find all image tags\n",
        "        for i, img in enumerate(images, start=1):\n",
        "            img_src = img.get('src')  # Get the image source URL\n",
        "            if img_src:\n",
        "                # Construct absolute URL if necessary\n",
        "                if not img_src.startswith('http'):\n",
        "                    img_src = urljoin(url, img_src)  # Join base URL with relative path\n",
        "\n",
        "                print(f\"Image {i} URL: {img_src}\")\n",
        "\n",
        "                # Download the image (optional)\n",
        "                img_response = requests.get(img_src)\n",
        "                if img_response.status_code == 200:\n",
        "                    img_filename = f\"image_{i}.jpg\"  # Customize filename\n",
        "                    with open(img_filename, 'wb') as f:\n",
        "                        f.write(img_response.content)\n",
        "                    print(f\"Downloaded: {img_filename}\")\n",
        "                else:\n",
        "                    print(f\"Failed to download image {i}\")\n",
        "\n",
        "    else:\n",
        "        print(f\"Failed to retrieve the webpage. Status code: {response.status_code}\")\n",
        "\n",
        "# URL of the webpage to scrape\n",
        "url = 'https://example.com/'  # Replace with the actual website\n",
        "\n",
        "# Call the function\n",
        "scrape_website(url)"
      ],
      "cell_type": "code",
      "metadata": {
        "id": "JjrxGnXOKBwl"
      },
      "execution_count": null,
      "outputs": []
    }
  ]
}